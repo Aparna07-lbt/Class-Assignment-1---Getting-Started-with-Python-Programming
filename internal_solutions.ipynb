{
  "nbformat": 4,
  "nbformat_minor": 0,
  "metadata": {
    "colab": {
      "name": "internal solutions",
      "provenance": [],
      "collapsed_sections": [],
      "authorship_tag": "ABX9TyNnN4j115bIc1y5VO1iCaz6",
      "include_colab_link": true
    },
    "kernelspec": {
      "name": "python3",
      "display_name": "Python 3"
    }
  },
  "cells": [
    {
      "cell_type": "markdown",
      "metadata": {
        "id": "view-in-github",
        "colab_type": "text"
      },
      "source": [
        "<a href=\"https://colab.research.google.com/github/Aparna07-lbt/Class-Assignment-1---Getting-Started-with-Python-Programming/blob/master/internal_solutions.ipynb\" target=\"_parent\"><img src=\"https://colab.research.google.com/assets/colab-badge.svg\" alt=\"Open In Colab\"/></a>"
      ]
    },
    {
      "cell_type": "code",
      "metadata": {
        "id": "SUI5QgIb3ks6"
      },
      "source": [
        "import math\n",
        "r = float(input(\"Enter the radius of a circle \"))\n",
        "print(\"The area of circle with radius\", r,\"is:\".(math.pi*r*r))"
      ],
      "execution_count": null,
      "outputs": []
    },
    {
      "cell_type": "code",
      "metadata": {
        "id": "cRuCXlAd3gMq"
      },
      "source": [
        "def common_data(list 1,list 2):\n",
        "  result= False\n",
        "  for x in list 1:\n",
        "    for y in list 2:\n",
        "      if x==y\n",
        "      result=True\n",
        "      return result\n",
        " print(commom_data([1,2,3,4,5],[5,6,7,8,9]))   \n",
        " print(common_data([1,2,3,4,5][6,7,8,9]))  "
      ],
      "execution_count": null,
      "outputs": []
    },
    {
      "cell_type": "code",
      "metadata": {
        "id": "_k4WrxcT5XmT"
      },
      "source": [
        "if num>1:\n",
        "  {for p in range(2,num):\n",
        "  {if (num%i)==0;\n",
        "   {print(num,\"is not a prime number\")\n",
        "   print(i,\"times\",num//i,\"is\",num)\n",
        "   break;\n",
        "   }\n",
        "   else:\n",
        "    print(num,\"is a prime number\")\n",
        "  }}\n",
        "  else:\n",
        "    print(num,\"is not a prime number\")\n",
        "    \n"
      ],
      "execution_count": null,
      "outputs": []
    },
    {
      "cell_type": "code",
      "metadata": {
        "id": "b-UkH-bY7IRT"
      },
      "source": [
        "mlist=[1,2,3,4,5,8,12,32]\n",
        "print(\"List has the items:\",mlist)\n",
        "searchitem = int(input(\"Enter a number to search\"))\n",
        "found= False\n",
        "for i in range(len(mlist))\n",
        "if mlist[i]==searchitem:\n",
        "  found = True\n",
        "  print(searchitem,\"was found in list at\",i)\n",
        "  break\n",
        "  if found == False:\n",
        "    print(searchitem,\"was not found\")"
      ],
      "execution_count": null,
      "outputs": []
    },
    {
      "cell_type": "code",
      "metadata": {
        "id": "agxu9dHT80kT"
      },
      "source": [
        "def isPalindrome(s):\n",
        "  rev = ''. join(reserved(s))\n",
        "  if(s==rev):\n",
        "    return True\n",
        "return False\n",
        "s= input(\"Enter a word\")\n",
        "ans=isPalindrome(s)\n",
        " if (ans):\n",
        "   print (\"Palindrome number\")"
      ],
      "execution_count": null,
      "outputs": []
    }
  ]
}
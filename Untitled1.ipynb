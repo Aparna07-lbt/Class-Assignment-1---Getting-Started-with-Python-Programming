{
  "nbformat": 4,
  "nbformat_minor": 0,
  "metadata": {
    "colab": {
      "name": "Untitled1.ipynb",
      "provenance": [],
      "collapsed_sections": [],
      "include_colab_link": true
    },
    "kernelspec": {
      "name": "python3",
      "display_name": "Python 3"
    }
  },
  "cells": [
    {
      "cell_type": "markdown",
      "metadata": {
        "id": "view-in-github",
        "colab_type": "text"
      },
      "source": [
        "<a href=\"https://colab.research.google.com/github/Aparna07-lbt/Class-Assignment-1---Getting-Started-with-Python-Programming/blob/master/Untitled1.ipynb\" target=\"_parent\"><img src=\"https://colab.research.google.com/assets/colab-badge.svg\" alt=\"Open In Colab\"/></a>"
      ]
    },
    {
      "cell_type": "code",
      "metadata": {
        "id": "yDsQ4boFh6sY",
        "colab_type": "code",
        "colab": {
          "base_uri": "https://localhost:8080/",
          "height": 68
        },
        "outputId": "27a9c76c-abbd-44a5-8616-8dfbe5772253"
      },
      "source": [
        "a=str(input(\"enter your name:\"))\n",
        "b=str(input(\"enter your address\"))\n",
        "c=str(input(\"enter your telephone number:\"))"
      ],
      "execution_count": null,
      "outputs": [
        {
          "output_type": "stream",
          "text": [
            "enter your name:aparna\n",
            "enter your addressapps 2001\n",
            "enter your telephone number:9898436320\n"
          ],
          "name": "stdout"
        }
      ]
    },
    {
      "cell_type": "code",
      "metadata": {
        "id": "IU1mENWridVw",
        "colab_type": "code",
        "colab": {
          "base_uri": "https://localhost:8080/",
          "height": 34
        },
        "outputId": "404469ad-d793-4ca1-b1c5-75042ecb9437"
      },
      "source": [
        "print(\"your name is\",name)\n"
      ],
      "execution_count": null,
      "outputs": [
        {
          "output_type": "stream",
          "text": [
            "your name is aparna\n"
          ],
          "name": "stdout"
        }
      ]
    },
    {
      "cell_type": "code",
      "metadata": {
        "id": "CjU8XHrXimzg",
        "colab_type": "code",
        "colab": {
          "base_uri": "https://localhost:8080/",
          "height": 34
        },
        "outputId": "f06b2341-7c2f-4c65-b136-4944404d04c1"
      },
      "source": [
        "name=\"aparna\"\n",
        "print(\"your name is\",name)"
      ],
      "execution_count": null,
      "outputs": [
        {
          "output_type": "stream",
          "text": [
            "your name is aparna\n"
          ],
          "name": "stdout"
        }
      ]
    },
    {
      "cell_type": "code",
      "metadata": {
        "id": "DZ_Xd8Znixr-",
        "colab_type": "code",
        "colab": {
          "base_uri": "https://localhost:8080/",
          "height": 68
        },
        "outputId": "a48df8ff-6d5a-42c8-a77a-a165d8c0b5a8"
      },
      "source": [
        "width=int(input(\"enter the width \"))\n",
        "height=int(input(\"enter the height \"))\n",
        "area=width*height\n",
        "print(\"the area is\",area,\"square units\")"
      ],
      "execution_count": null,
      "outputs": [
        {
          "output_type": "stream",
          "text": [
            "enter the width 30\n",
            "enter the height 30\n",
            "the area is 900 square units\n"
          ],
          "name": "stdout"
        }
      ]
    },
    {
      "cell_type": "code",
      "metadata": {
        "id": "MU4SXT4MjReX",
        "colab_type": "code",
        "colab": {
          "base_uri": "https://localhost:8080/",
          "height": 68
        },
        "outputId": "3eeea79a-f52f-41fe-d81f-c7836b96067f"
      },
      "source": [
        "baselength=int(input(\"enter the base length of a triangle \"))\n",
        "height=int(input(\"enter the height of triangle \"))\n",
        "area=((baselength*height)/2)\n",
        "print(\"the area of triangle is\",area,\"squareunits\")"
      ],
      "execution_count": null,
      "outputs": [
        {
          "output_type": "stream",
          "text": [
            "enter the base length of a triangle 12\n",
            "enter the height of triangle 15\n",
            "the area of triangle is 90.0 squareunits\n"
          ],
          "name": "stdout"
        }
      ]
    },
    {
      "cell_type": "code",
      "metadata": {
        "id": "sW3W4LpRky6J",
        "colab_type": "code",
        "colab": {
          "base_uri": "https://localhost:8080/",
          "height": 51
        },
        "outputId": "e6bd2c88-b197-4dae-95b4-3a8fff43f8f9"
      },
      "source": [
        "radius=(float(input(\"enter the radius of the circle \")))\n",
        "area=3.14*radius**2\n",
        "print(\"the area of the circle is \",area,\"square units\")"
      ],
      "execution_count": null,
      "outputs": [
        {
          "output_type": "stream",
          "text": [
            "enter the radius of the circle 7\n",
            "the area of the circle is  153.86 square units\n"
          ],
          "name": "stdout"
        }
      ]
    },
    {
      "cell_type": "code",
      "metadata": {
        "id": "X_0F67AmlTY4",
        "colab_type": "code",
        "colab": {
          "base_uri": "https://localhost:8080/",
          "height": 68
        },
        "outputId": "571d6c66-fa71-4a3d-e551-046469d35363"
      },
      "source": [
        "str(input(\"enter your name \"))\n",
        "a=int(input(\"enter your age \"))\n",
        "print(\"your name is\",name,\"and your age is\",str(a))"
      ],
      "execution_count": null,
      "outputs": [
        {
          "output_type": "stream",
          "text": [
            "enter your name aparna\n",
            "enter your age 18\n",
            "your name is aparna and your age is 18\n"
          ],
          "name": "stdout"
        }
      ]
    },
    {
      "cell_type": "code",
      "metadata": {
        "id": "EdUNdft_lz_c",
        "colab_type": "code",
        "colab": {
          "base_uri": "https://localhost:8080/",
          "height": 51
        },
        "outputId": "0e2ec86e-04e6-44b3-c7f1-8486d6b07f6a"
      },
      "source": [
        "x=int(input(\"enter a number \"))\n",
        "a=x+1;\n",
        "print(\"the result is\",a)"
      ],
      "execution_count": null,
      "outputs": [
        {
          "output_type": "stream",
          "text": [
            "enter a number 56\n",
            "the result is 57\n"
          ],
          "name": "stdout"
        }
      ]
    },
    {
      "cell_type": "code",
      "metadata": {
        "id": "g5XpazfZmNWv",
        "colab_type": "code",
        "colab": {
          "base_uri": "https://localhost:8080/",
          "height": 34
        },
        "outputId": "ccc6dc41-f027-4ade-a4bb-76f604d4397b"
      },
      "source": [
        "a=str(input(\"enter your first name \"))"
      ],
      "execution_count": null,
      "outputs": [
        {
          "output_type": "stream",
          "text": [
            "enter your first name aparna\n"
          ],
          "name": "stdout"
        }
      ]
    },
    {
      "cell_type": "code",
      "metadata": {
        "id": "j2kvnco7mt_u",
        "colab_type": "code",
        "colab": {
          "base_uri": "https://localhost:8080/",
          "height": 68
        },
        "outputId": "8d5c0e56-482c-4253-f032-566d92060515"
      },
      "source": [
        "import math\n",
        "import os\n",
        "import random\n",
        "import re\n",
        "import sys\n",
        "\n",
        "\n",
        "\n",
        "if __name__=='__main__':\n",
        "     a=input(\"enter the first string\")\n",
        "\n",
        "     b=input(\"enter the second string\")\n",
        "     if a==b:\n",
        "        print(\"equal\")\n",
        "     elif a!=b:\n",
        "        print(\" not equal\")\n"
      ],
      "execution_count": null,
      "outputs": [
        {
          "output_type": "stream",
          "text": [
            "enter the first stringsaturday\n",
            "enter the second stringfriday\n",
            " not equal\n"
          ],
          "name": "stdout"
        }
      ]
    },
    {
      "cell_type": "code",
      "metadata": {
        "id": "vn1tboGrpeE_",
        "colab_type": "code",
        "colab": {
          "base_uri": "https://localhost:8080/",
          "height": 51
        },
        "outputId": "1f0f9b85-0e00-4a7d-dcc8-0d0cc76ed021"
      },
      "source": [
        "a=float(input(\"enter the number\"))\n",
        "if a>0:\n",
        "  print(\"positive\")\n",
        "  if a<0:\n",
        "    print(\"negative\")\n",
        "    if a==0:\n",
        "      print(\"zero\")"
      ],
      "execution_count": null,
      "outputs": [
        {
          "output_type": "stream",
          "text": [
            "enter the number2\n",
            "positive\n"
          ],
          "name": "stdout"
        }
      ]
    },
    {
      "cell_type": "code",
      "metadata": {
        "id": "1OinHgXSqSXI",
        "colab_type": "code",
        "colab": {
          "base_uri": "https://localhost:8080/",
          "height": 85
        },
        "outputId": "26801215-e991-429a-9ee5-a3ff23eb0452"
      },
      "source": [
        "a=float(input(\"enter the first number \"))\n",
        "b=float(input(\"enter the second number\"))\n",
        "c=float(input(\"enter the third number\"))\n",
        "if(a>b) and (a>c):\n",
        "  print(\"largest number is\",a)\n",
        "elif(b>a) and (b>c):\n",
        "  print(\"largest number is\",b)\n",
        "else:\n",
        "    print(\"largest number is\",c)"
      ],
      "execution_count": null,
      "outputs": [
        {
          "output_type": "stream",
          "text": [
            "enter the first number 7\n",
            "enter the second number8\n",
            "enter the third number9\n",
            "largest number is 9.0\n"
          ],
          "name": "stdout"
        }
      ]
    },
    {
      "cell_type": "code",
      "metadata": {
        "id": "lxgOg3MGrjZZ",
        "colab_type": "code",
        "colab": {
          "base_uri": "https://localhost:8080/",
          "height": 51
        },
        "outputId": "54828b3c-803b-4d0d-af8b-20a9b00ec326"
      },
      "source": [
        "number=int(input(\"enter a number\"))\n",
        "sqrt=number**0.5\n",
        "print(\"the square root of\",number,\"is\",sqrt)"
      ],
      "execution_count": null,
      "outputs": [
        {
          "output_type": "stream",
          "text": [
            "enter a number10\n",
            "the square root of 10 is 3.1622776601683795\n"
          ],
          "name": "stdout"
        }
      ]
    },
    {
      "cell_type": "code",
      "metadata": {
        "id": "D-oi0NvasGQx",
        "colab_type": "code",
        "colab": {
          "base_uri": "https://localhost:8080/",
          "height": 85
        },
        "outputId": "c3663993-feda-44ec-9cbf-ff8401ec779b"
      },
      "source": [
        "a=float(input(\"enter the first side\"))\n",
        "b=float(input(\"enter the second side\"))\n",
        "c=float(input(\"enter the third side\"))\n",
        "s=a+b+c/2\n",
        "area=(s*(s-a)*(s-b)*(s-c))**0.5\n",
        "print(\"the area of triangle is\",area)"
      ],
      "execution_count": null,
      "outputs": [
        {
          "output_type": "stream",
          "text": [
            "enter the first side10\n",
            "enter the second side11\n",
            "enter the third side12\n",
            "the area of triangle is 331.9036004625439\n"
          ],
          "name": "stdout"
        }
      ]
    },
    {
      "cell_type": "code",
      "metadata": {
        "id": "HbfODCdYtA7X",
        "colab_type": "code",
        "colab": {
          "base_uri": "https://localhost:8080/",
          "height": 51
        },
        "outputId": "ce8557d8-5161-489b-c061-a36e333ac71d"
      },
      "source": [
        "celsius=float(input(\"enter the temperature in celsius \"))\n",
        "fahrenheit=(celsius*108)+32\n",
        "print(celsius,\"c is ewual to\",fahrenheit,\"f\")"
      ],
      "execution_count": null,
      "outputs": [
        {
          "output_type": "stream",
          "text": [
            "enter the temperature in celsius 38\n",
            "38.0 c is ewual to 4136.0 f\n"
          ],
          "name": "stdout"
        }
      ]
    }
  ]
}
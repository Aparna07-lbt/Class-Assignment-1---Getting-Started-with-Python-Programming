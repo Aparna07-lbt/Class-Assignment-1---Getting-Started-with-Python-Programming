{
  "nbformat": 4,
  "nbformat_minor": 0,
  "metadata": {
    "colab": {
      "name": "Programming Exercise",
      "provenance": [],
      "collapsed_sections": [],
      "authorship_tag": "ABX9TyMfvugqg+f4qQ4ngVixXZrL",
      "include_colab_link": true
    },
    "kernelspec": {
      "name": "python3",
      "display_name": "Python 3"
    }
  },
  "cells": [
    {
      "cell_type": "markdown",
      "metadata": {
        "id": "view-in-github",
        "colab_type": "text"
      },
      "source": [
        "<a href=\"https://colab.research.google.com/github/Aparna07-lbt/Class-Assignment-1---Getting-Started-with-Python-Programming/blob/master/Programming_Exercise.ipynb\" target=\"_parent\"><img src=\"https://colab.research.google.com/assets/colab-badge.svg\" alt=\"Open In Colab\"/></a>"
      ]
    },
    {
      "cell_type": "code",
      "metadata": {
        "id": "0qByJxRl84SY",
        "outputId": "75fa82d8-b3b9-4c24-d4b3-25d17cb8a873",
        "colab": {
          "base_uri": "https://localhost:8080/",
          "height": 34
        }
      },
      "source": [
        "list=[4,7,0,5,3]\n",
        "large=list[0]\n",
        "for i in list:\n",
        "  if i >large:\n",
        "    large =i\n",
        "print(large)"
      ],
      "execution_count": 1,
      "outputs": [
        {
          "output_type": "stream",
          "text": [
            "7\n"
          ],
          "name": "stdout"
        }
      ]
    },
    {
      "cell_type": "code",
      "metadata": {
        "id": "ayoxbeIk9Smk",
        "outputId": "5b0b197f-6ed3-4deb-9fdd-e920552ff187",
        "colab": {
          "base_uri": "https://localhost:8080/",
          "height": 67
        }
      },
      "source": [
        "list=[9,7,4,5,6]\n",
        "print(list)\n",
        "k=int(input(\"enter the number to search \"))\n",
        "for i in list:\n",
        "  if i==k:\n",
        "   print (\"element found\")\n",
        "   break\n",
        "else:\n",
        "  print(\"not found\")"
      ],
      "execution_count": 2,
      "outputs": [
        {
          "output_type": "stream",
          "text": [
            "[9, 7, 4, 5, 6]\n",
            "enter the number to search 5\n",
            "element found\n"
          ],
          "name": "stdout"
        }
      ]
    },
    {
      "cell_type": "code",
      "metadata": {
        "id": "C3Ue7z8P-t1n",
        "outputId": "7918cf8a-3a9a-48f3-f1f7-0021408da731",
        "colab": {
          "base_uri": "https://localhost:8080/",
          "height": 34
        }
      },
      "source": [
        "list=[5,9,0,6,7]\n",
        "sum=0\n",
        "for i in list:\n",
        " sum=sum+i\n",
        "print(\"sum is \" , sum)\n"
      ],
      "execution_count": 3,
      "outputs": [
        {
          "output_type": "stream",
          "text": [
            "sum is  27\n"
          ],
          "name": "stdout"
        }
      ]
    },
    {
      "cell_type": "code",
      "metadata": {
        "id": "C-Op_VnvxFwZ",
        "outputId": "959a9bc7-5f7e-45b2-d0b2-a84371d06325",
        "colab": {
          "base_uri": "https://localhost:8080/",
          "height": 50
        }
      },
      "source": [
        "list=[6,6,8,0,7,5]\n",
        "print(list)\n",
        "newlist=[]\n",
        "for i in list:\n",
        " if i not in newlist:\n",
        "  newlist.append(i)\n",
        "print(newlist)\n",
        "\n"
      ],
      "execution_count": 4,
      "outputs": [
        {
          "output_type": "stream",
          "text": [
            "[6, 6, 8, 0, 7, 5]\n",
            "[6, 8, 0, 7, 5]\n"
          ],
          "name": "stdout"
        }
      ]
    },
    {
      "cell_type": "code",
      "metadata": {
        "id": "lzPaWoJ3ycfh",
        "outputId": "4db75230-4e1c-4114-d2cf-09c2bd814d09",
        "colab": {
          "base_uri": "https://localhost:8080/",
          "height": 50
        }
      },
      "source": [
        "def common(list1,list2):\n",
        "  for i in list1:\n",
        "    for j in list2:\n",
        "      if i==j:\n",
        "        return True\n",
        "print(common([4,5,6],[9,5,6,8]))\n",
        "print(common([6,7],[8,9]))"
      ],
      "execution_count": 5,
      "outputs": [
        {
          "output_type": "stream",
          "text": [
            "True\n",
            "None\n"
          ],
          "name": "stdout"
        }
      ]
    },
    {
      "cell_type": "code",
      "metadata": {
        "id": "ejW8LQ5n1yll",
        "outputId": "3d8ffcb3-a3b1-4407-e8ca-2bc841bb9bc5",
        "colab": {
          "base_uri": "https://localhost:8080/",
          "height": 34
        }
      },
      "source": [
        "list1=[10,11,12]\n",
        "list2=['e','f','g']\n",
        "list=list1+list2\n",
        "print(list)\n"
      ],
      "execution_count": 6,
      "outputs": [
        {
          "output_type": "stream",
          "text": [
            "[10, 11, 12, 'e', 'f', 'g']\n"
          ],
          "name": "stdout"
        }
      ]
    },
    {
      "cell_type": "code",
      "metadata": {
        "id": "zDCYW9YP2e5J",
        "outputId": "53b1ac4f-3bcf-47c1-b484-8a02d81a637e",
        "colab": {
          "base_uri": "https://localhost:8080/",
          "height": 50
        }
      },
      "source": [
        "n=int(input(\"enter a number \"))\n",
        "fact=0\n",
        "for i in range(1,n):\n",
        " if n%i==0:\n",
        "  fact=i\n",
        "if fact>1:\n",
        "  print(\"composite number\")\n",
        "elif n==1:\n",
        "  print(\"neither composite nor prime\")\n",
        "else:\n",
        "  print(\"prime number\")"
      ],
      "execution_count": 7,
      "outputs": [
        {
          "output_type": "stream",
          "text": [
            "enter a number 8\n",
            "composite number\n"
          ],
          "name": "stdout"
        }
      ]
    },
    {
      "cell_type": "code",
      "metadata": {
        "id": "c5JSF2AZ4LGa",
        "outputId": "ea8a435d-78d1-4093-a367-0968b547fcd8",
        "colab": {
          "base_uri": "https://localhost:8080/",
          "height": 34
        }
      },
      "source": [
        "X=[[3,9,4],[7,9,3],[1,5,0]]\n",
        "Y=[[2,16,1],[3,16,8],[8,2,3]]\n",
        "RESULT=[[0,0,0],[0,0,0],[0,0,0]]\n",
        "for i in range(len(X)):\n",
        "  for j in range(len(X[0])):\n",
        "    RESULT[i][j]=X[i][j]+Y[i][j]\n",
        "print(RESULT)"
      ],
      "execution_count": 8,
      "outputs": [
        {
          "output_type": "stream",
          "text": [
            "[[5, 25, 5], [10, 25, 11], [9, 7, 3]]\n"
          ],
          "name": "stdout"
        }
      ]
    },
    {
      "cell_type": "code",
      "metadata": {
        "id": "U-35TtSs6Dmz",
        "outputId": "297b7d25-b6af-4a6b-990a-4390fc228a8f",
        "colab": {
          "base_uri": "https://localhost:8080/",
          "height": 50
        }
      },
      "source": [
        "def palindrome(str):\n",
        "  rev=''.join(reversed(str))\n",
        "  if str==rev:\n",
        "    return True\n",
        "  return False\n",
        "str=input(\"enter a word \")\n",
        "word= palindrome(str)\n",
        "if (word):\n",
        "  print(\"it is palindrome\")\n",
        "else:\n",
        " print(\"it is not palindrome\")"
      ],
      "execution_count": 9,
      "outputs": [
        {
          "output_type": "stream",
          "text": [
            "enter a word huh\n",
            "it is palindrome\n"
          ],
          "name": "stdout"
        }
      ]
    },
    {
      "cell_type": "code",
      "metadata": {
        "id": "W0lmCiOs7Kw_",
        "outputId": "03f03e05-5609-4414-beae-1c58bfcc8892",
        "colab": {
          "base_uri": "https://localhost:8080/",
          "height": 319
        }
      },
      "source": [
        "num=int(input(\"enter a number \"))\n",
        "for i in range(1,18):\n",
        " print(num,\"x\",i,\"=\",num*i)"
      ],
      "execution_count": 10,
      "outputs": [
        {
          "output_type": "stream",
          "text": [
            "enter a number 5\n",
            "5 x 1 = 5\n",
            "5 x 2 = 10\n",
            "5 x 3 = 15\n",
            "5 x 4 = 20\n",
            "5 x 5 = 25\n",
            "5 x 6 = 30\n",
            "5 x 7 = 35\n",
            "5 x 8 = 40\n",
            "5 x 9 = 45\n",
            "5 x 10 = 50\n",
            "5 x 11 = 55\n",
            "5 x 12 = 60\n",
            "5 x 13 = 65\n",
            "5 x 14 = 70\n",
            "5 x 15 = 75\n",
            "5 x 16 = 80\n",
            "5 x 17 = 85\n"
          ],
          "name": "stdout"
        }
      ]
    }
  ]
}
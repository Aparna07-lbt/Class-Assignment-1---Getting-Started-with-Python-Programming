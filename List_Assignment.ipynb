{
  "nbformat": 4,
  "nbformat_minor": 0,
  "metadata": {
    "colab": {
      "name": "List Assignment",
      "provenance": [],
      "collapsed_sections": [],
      "authorship_tag": "ABX9TyM6UfPVDA5IJAmg+F5dwRom",
      "include_colab_link": true
    },
    "kernelspec": {
      "name": "python3",
      "display_name": "Python 3"
    }
  },
  "cells": [
    {
      "cell_type": "markdown",
      "metadata": {
        "id": "view-in-github",
        "colab_type": "text"
      },
      "source": [
        "<a href=\"https://colab.research.google.com/github/Aparna07-lbt/Class-Assignment-1---Getting-Started-with-Python-Programming/blob/master/List_Assignment.ipynb\" target=\"_parent\"><img src=\"https://colab.research.google.com/assets/colab-badge.svg\" alt=\"Open In Colab\"/></a>"
      ]
    },
    {
      "cell_type": "code",
      "metadata": {
        "id": "G1jXMJVcE6wK",
        "colab_type": "code",
        "colab": {
          "base_uri": "https://localhost:8080/",
          "height": 84
        },
        "outputId": "84f65f6e-59f2-48d7-bff7-8ea527a8b243"
      },
      "source": [
        "list=[19,78,35,67,80,65,43]\n",
        "count=0\n",
        "print(\"The list is:\")\n",
        "print(list)\n",
        "a=int(input(\"Enter the element to be searched:\"))\n",
        "for i in range(0,7):\n",
        " if list[i]==a:\n",
        "  print(\"The item is found in\",i+1,\"position\")\n",
        "  count=count+1\n",
        "if count==0:\n",
        "  print(\"The item is not found\")"
      ],
      "execution_count": null,
      "outputs": [
        {
          "output_type": "stream",
          "text": [
            "The list is:\n",
            "[19, 78, 35, 67, 80, 65, 43]\n",
            "Enter the element to be searched:35\n",
            "The item is found in 3 position\n"
          ],
          "name": "stdout"
        }
      ]
    }
  ]
}